{
 "cells": [
  {
   "cell_type": "code",
   "execution_count": 58,
   "metadata": {},
   "outputs": [],
   "source": [
    "from pathlib import Path\n",
    "import geopandas as gpd\n",
    "import torch\n",
    "import numpy as np\n",
    "import pandas as pd\n",
    "from tqdm import tqdm"
   ]
  },
  {
   "cell_type": "code",
   "execution_count": 59,
   "metadata": {},
   "outputs": [],
   "source": [
    "# Fill these file paths with the locations on your machine.\n",
    "PATH_TO_DATA_TEST = (\n",
    "    \"/Users/33783/Desktop/capgemini/hackathon-mines-invent-2024/DATA/TEST/\"\n",
    ")\n",
    "METADATA_TEST = Path(PATH_TO_DATA_TEST) / \"metadata.geojson\"\n",
    "\n",
    "MODEL_NAME = \"simplesegmentation_1\"\n",
    "MODEL_PATH = f\"models/{MODEL_NAME}.pth\""
   ]
  },
  {
   "cell_type": "code",
   "execution_count": 60,
   "metadata": {},
   "outputs": [
    {
     "data": {
      "text/html": [
       "<div>\n",
       "<style scoped>\n",
       "    .dataframe tbody tr th:only-of-type {\n",
       "        vertical-align: middle;\n",
       "    }\n",
       "\n",
       "    .dataframe tbody tr th {\n",
       "        vertical-align: top;\n",
       "    }\n",
       "\n",
       "    .dataframe thead th {\n",
       "        text-align: right;\n",
       "    }\n",
       "</style>\n",
       "<table border=\"1\" class=\"dataframe\">\n",
       "  <thead>\n",
       "    <tr style=\"text-align: right;\">\n",
       "      <th></th>\n",
       "      <th>ID</th>\n",
       "      <th>TILE</th>\n",
       "      <th>N_Parcel</th>\n",
       "      <th>Parcel_Cover</th>\n",
       "      <th>dates-S2</th>\n",
       "      <th>geometry</th>\n",
       "    </tr>\n",
       "  </thead>\n",
       "  <tbody>\n",
       "    <tr>\n",
       "      <th>0</th>\n",
       "      <td>20000</td>\n",
       "      <td>t30uxv</td>\n",
       "      <td>88</td>\n",
       "      <td>0.667172</td>\n",
       "      <td>{'0': 20180924, '1': 20180929, '2': 20181004, ...</td>\n",
       "      <td>MULTIPOLYGON (((364583.845 6890803.633, 365860...</td>\n",
       "    </tr>\n",
       "    <tr>\n",
       "      <th>1</th>\n",
       "      <td>20001</td>\n",
       "      <td>t30uxv</td>\n",
       "      <td>93</td>\n",
       "      <td>0.752556</td>\n",
       "      <td>{'0': 20180924, '1': 20180929, '2': 20181004, ...</td>\n",
       "      <td>MULTIPOLYGON (((367529.513 6912409.414, 368806...</td>\n",
       "    </tr>\n",
       "    <tr>\n",
       "      <th>2</th>\n",
       "      <td>20002</td>\n",
       "      <td>t30uxv</td>\n",
       "      <td>64</td>\n",
       "      <td>0.970282</td>\n",
       "      <td>{'0': 20180924, '1': 20180929, '2': 20181004, ...</td>\n",
       "      <td>MULTIPOLYGON (((452774.570 6918664.386, 454051...</td>\n",
       "    </tr>\n",
       "    <tr>\n",
       "      <th>3</th>\n",
       "      <td>20003</td>\n",
       "      <td>t30uxv</td>\n",
       "      <td>92</td>\n",
       "      <td>0.820805</td>\n",
       "      <td>{'0': 20180924, '1': 20180929, '2': 20181004, ...</td>\n",
       "      <td>MULTIPOLYGON (((369002.797 6914864.797, 370279...</td>\n",
       "    </tr>\n",
       "    <tr>\n",
       "      <th>4</th>\n",
       "      <td>20004</td>\n",
       "      <td>t30uxv</td>\n",
       "      <td>75</td>\n",
       "      <td>0.835466</td>\n",
       "      <td>{'0': 20180924, '1': 20180929, '2': 20181004, ...</td>\n",
       "      <td>MULTIPOLYGON (((460420.865 6901378.432, 461697...</td>\n",
       "    </tr>\n",
       "    <tr>\n",
       "      <th>...</th>\n",
       "      <td>...</td>\n",
       "      <td>...</td>\n",
       "      <td>...</td>\n",
       "      <td>...</td>\n",
       "      <td>...</td>\n",
       "      <td>...</td>\n",
       "    </tr>\n",
       "    <tr>\n",
       "      <th>469</th>\n",
       "      <td>20469</td>\n",
       "      <td>t32ulu</td>\n",
       "      <td>18</td>\n",
       "      <td>0.168979</td>\n",
       "      <td>{'0': 20180917, '1': 20180922, '2': 20180927, ...</td>\n",
       "      <td>MULTIPOLYGON (((1007901.660 6760101.793, 10091...</td>\n",
       "    </tr>\n",
       "    <tr>\n",
       "      <th>470</th>\n",
       "      <td>20470</td>\n",
       "      <td>t32ulu</td>\n",
       "      <td>13</td>\n",
       "      <td>0.284865</td>\n",
       "      <td>{'0': 20180917, '1': 20180922, '2': 20180927, ...</td>\n",
       "      <td>MULTIPOLYGON (((1004372.112 6772662.360, 10056...</td>\n",
       "    </tr>\n",
       "    <tr>\n",
       "      <th>471</th>\n",
       "      <td>20471</td>\n",
       "      <td>t32ulu</td>\n",
       "      <td>36</td>\n",
       "      <td>0.399832</td>\n",
       "      <td>{'0': 20180917, '1': 20180922, '2': 20180927, ...</td>\n",
       "      <td>MULTIPOLYGON (((1034994.449 6791692.947, 10362...</td>\n",
       "    </tr>\n",
       "    <tr>\n",
       "      <th>472</th>\n",
       "      <td>20472</td>\n",
       "      <td>t32ulu</td>\n",
       "      <td>7</td>\n",
       "      <td>0.255358</td>\n",
       "      <td>{'0': 20180917, '1': 20180922, '2': 20180927, ...</td>\n",
       "      <td>MULTIPOLYGON (((1007714.487 6812700.875, 10089...</td>\n",
       "    </tr>\n",
       "    <tr>\n",
       "      <th>473</th>\n",
       "      <td>20473</td>\n",
       "      <td>t32ulu</td>\n",
       "      <td>5</td>\n",
       "      <td>0.054305</td>\n",
       "      <td>{'0': 20180917, '1': 20180922, '2': 20180927, ...</td>\n",
       "      <td>MULTIPOLYGON (((1002310.153 6766088.520, 10035...</td>\n",
       "    </tr>\n",
       "  </tbody>\n",
       "</table>\n",
       "<p>474 rows × 6 columns</p>\n",
       "</div>"
      ],
      "text/plain": [
       "        ID    TILE  N_Parcel  Parcel_Cover  \\\n",
       "0    20000  t30uxv        88      0.667172   \n",
       "1    20001  t30uxv        93      0.752556   \n",
       "2    20002  t30uxv        64      0.970282   \n",
       "3    20003  t30uxv        92      0.820805   \n",
       "4    20004  t30uxv        75      0.835466   \n",
       "..     ...     ...       ...           ...   \n",
       "469  20469  t32ulu        18      0.168979   \n",
       "470  20470  t32ulu        13      0.284865   \n",
       "471  20471  t32ulu        36      0.399832   \n",
       "472  20472  t32ulu         7      0.255358   \n",
       "473  20473  t32ulu         5      0.054305   \n",
       "\n",
       "                                              dates-S2  \\\n",
       "0    {'0': 20180924, '1': 20180929, '2': 20181004, ...   \n",
       "1    {'0': 20180924, '1': 20180929, '2': 20181004, ...   \n",
       "2    {'0': 20180924, '1': 20180929, '2': 20181004, ...   \n",
       "3    {'0': 20180924, '1': 20180929, '2': 20181004, ...   \n",
       "4    {'0': 20180924, '1': 20180929, '2': 20181004, ...   \n",
       "..                                                 ...   \n",
       "469  {'0': 20180917, '1': 20180922, '2': 20180927, ...   \n",
       "470  {'0': 20180917, '1': 20180922, '2': 20180927, ...   \n",
       "471  {'0': 20180917, '1': 20180922, '2': 20180927, ...   \n",
       "472  {'0': 20180917, '1': 20180922, '2': 20180927, ...   \n",
       "473  {'0': 20180917, '1': 20180922, '2': 20180927, ...   \n",
       "\n",
       "                                              geometry  \n",
       "0    MULTIPOLYGON (((364583.845 6890803.633, 365860...  \n",
       "1    MULTIPOLYGON (((367529.513 6912409.414, 368806...  \n",
       "2    MULTIPOLYGON (((452774.570 6918664.386, 454051...  \n",
       "3    MULTIPOLYGON (((369002.797 6914864.797, 370279...  \n",
       "4    MULTIPOLYGON (((460420.865 6901378.432, 461697...  \n",
       "..                                                 ...  \n",
       "469  MULTIPOLYGON (((1007901.660 6760101.793, 10091...  \n",
       "470  MULTIPOLYGON (((1004372.112 6772662.360, 10056...  \n",
       "471  MULTIPOLYGON (((1034994.449 6791692.947, 10362...  \n",
       "472  MULTIPOLYGON (((1007714.487 6812700.875, 10089...  \n",
       "473  MULTIPOLYGON (((1002310.153 6766088.520, 10035...  \n",
       "\n",
       "[474 rows x 6 columns]"
      ]
     },
     "execution_count": 60,
     "metadata": {},
     "output_type": "execute_result"
    }
   ],
   "source": [
    "mtd_test = gpd.read_file(METADATA_TEST)\n",
    "mtd_test"
   ]
  },
  {
   "cell_type": "code",
   "execution_count": 35,
   "metadata": {},
   "outputs": [
    {
     "name": "stdout",
     "output_type": "stream",
     "text": [
      "Reading patch metadata ...\n",
      "Done.\n",
      "Dataset ready.\n"
     ]
    }
   ],
   "source": [
    "from baseline.dataset import BaselineDatatest\n",
    "from baseline.collate import pad_collate\n",
    "\n",
    "dt_test = BaselineDatatest(Path(PATH_TO_DATA_TEST))\n",
    "\n",
    "dl_test = torch.utils.data.DataLoader(\n",
    "    dt_test, batch_size=1, collate_fn=pad_collate, shuffle=True\n",
    ")"
   ]
  },
  {
   "cell_type": "code",
   "execution_count": 36,
   "metadata": {},
   "outputs": [
    {
     "data": {
      "text/plain": [
       "SimpleSegmentationModel(\n",
       "  (encoder): Sequential(\n",
       "    (0): Conv2d(10, 32, kernel_size=(3, 3), stride=(1, 1), padding=(1, 1))\n",
       "    (1): ReLU()\n",
       "    (2): Conv2d(32, 64, kernel_size=(3, 3), stride=(1, 1), padding=(1, 1))\n",
       "    (3): ReLU()\n",
       "    (4): Conv2d(64, 128, kernel_size=(3, 3), stride=(1, 1), padding=(1, 1))\n",
       "    (5): ReLU()\n",
       "  )\n",
       "  (decoder): Sequential(\n",
       "    (0): Conv2d(128, 64, kernel_size=(3, 3), stride=(1, 1), padding=(1, 1))\n",
       "    (1): ReLU()\n",
       "    (2): Conv2d(64, 20, kernel_size=(3, 3), stride=(1, 1), padding=(1, 1))\n",
       "  )\n",
       ")"
      ]
     },
     "execution_count": 36,
     "metadata": {},
     "output_type": "execute_result"
    }
   ],
   "source": [
    "model = torch.load(MODEL_PATH)\n",
    "# Ne pas oublier de mettre le modèle en mode d'évaluation si nécessaire\n",
    "model.eval()"
   ]
  },
  {
   "cell_type": "code",
   "execution_count": 37,
   "metadata": {},
   "outputs": [
    {
     "name": "stderr",
     "output_type": "stream",
     "text": [
      "0it [00:00, ?it/s]"
     ]
    },
    {
     "name": "stderr",
     "output_type": "stream",
     "text": [
      "474it [00:32, 14.56it/s]\n"
     ]
    }
   ],
   "source": [
    "all_preds = []\n",
    "device = \"cuda\" if torch.cuda.is_available() else \"cpu\"\n",
    "\n",
    "for i, inputs in tqdm(enumerate(dl_test)):\n",
    "    inputs_preprocessed = inputs[\"S2\"][:, 10, :, :, :]\n",
    "    \n",
    "    inputs_preprocessed = inputs_preprocessed.to(device)  # Satellite data\n",
    "    outputs = model(inputs_preprocessed)\n",
    "    preds = torch.argmax(outputs, dim=1)\n",
    "    preds = preds.cpu().detach().numpy().flatten()\n",
    "    all_preds.append(preds)"
   ]
  },
  {
   "cell_type": "code",
   "execution_count": 45,
   "metadata": {},
   "outputs": [
    {
     "name": "stdout",
     "output_type": "stream",
     "text": [
      "(1, 16384) 474\n",
      "(474, 16384)\n"
     ]
    }
   ],
   "source": [
    "all_preds_2d = [e.reshape(1,-1) for e in all_preds]\n",
    "print(all_preds_2d[0].shape, len(all_preds))\n",
    "Y = np.concatenate(all_preds_2d, axis=0)\n",
    "print(Y.shape)"
   ]
  },
  {
   "cell_type": "code",
   "execution_count": 46,
   "metadata": {},
   "outputs": [
    {
     "name": "stdout",
     "output_type": "stream",
     "text": [
      "(474, 16384)\n"
     ]
    }
   ],
   "source": [
    "from baseline.submission_tools import masks_to_str\n",
    "\n",
    "masks = masks_to_str(Y)\n",
    "print(Y.shape)\n",
    "\n",
    "submission = pd.DataFrame.from_dict({\"ID\": range(len(Y)), \"MASKS\": masks})\n",
    "submission[\"ID\"] = submission[\"ID\"] + 20000"
   ]
  },
  {
   "cell_type": "code",
   "execution_count": 57,
   "metadata": {},
   "outputs": [],
   "source": [
    "# Note that the index=False argument is important.\n",
    "submission.to_csv(f\"submission_{MODEL_NAME}.csv\", index=False)"
   ]
  }
 ],
 "metadata": {
  "kernelspec": {
   "display_name": "env_challenge",
   "language": "python",
   "name": "python3"
  },
  "language_info": {
   "codemirror_mode": {
    "name": "ipython",
    "version": 3
   },
   "file_extension": ".py",
   "mimetype": "text/x-python",
   "name": "python",
   "nbconvert_exporter": "python",
   "pygments_lexer": "ipython3",
   "version": "3.12.7"
  },
  "toc": {
   "base_numbering": 1,
   "nav_menu": {},
   "number_sections": true,
   "sideBar": true,
   "skip_h1_title": false,
   "title_cell": "Table of Contents",
   "title_sidebar": "Contents",
   "toc_cell": false,
   "toc_position": {},
   "toc_section_display": true,
   "toc_window_display": false
  }
 },
 "nbformat": 4,
 "nbformat_minor": 4
}
